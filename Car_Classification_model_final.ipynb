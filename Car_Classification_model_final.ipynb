{
 "cells": [
  {
   "cell_type": "code",
   "execution_count": 1,
   "metadata": {
    "id": "alYyX4q8W2Rs"
   },
   "outputs": [],
   "source": [
    "import cv2\n",
    "import time\n",
    "import numpy as np\n",
    "import pickle\n",
    "from keras.preprocessing import image\n",
    "from matplotlib import pyplot\n",
    "from PIL import Image\n",
    "import glob\n",
    "import tensorflow as tf\n",
    "import tensorflow_hub as hub\n",
    "from tensorflow import keras\n",
    "from tensorflow.keras import layers\n",
    "from tensorflow.keras.models import Sequential\n",
    "from sklearn.model_selection import train_test_split\n"
   ]
  },
  {
   "cell_type": "code",
   "execution_count": 2,
   "metadata": {
    "colab": {
     "base_uri": "https://localhost:8080/"
    },
    "executionInfo": {
     "elapsed": 83383,
     "status": "ok",
     "timestamp": 1615049390504,
     "user": {
      "displayName": "Rishi Gupta",
      "photoUrl": "https://lh3.googleusercontent.com/a-/AOh14Gi-br0PTBYSMShnebk6wFWo9MyTU5lBkUGZZGPmHHY=s64",
      "userId": "03170080825647371985"
     },
     "user_tz": 0
    },
    "id": "qUIpAk3YWkZb",
    "outputId": "76bfb852-27f3-4809-cd4d-25969e016dd2"
   },
   "outputs": [],
   "source": [
    "image_list_SUV = []  ## reading images of sedan from path and storing in this list\n",
    "image_list_sedan = []  ## reading images of sedan from path and storing in this list\n",
    "\n",
    "## reading the images from the source and saving it in the list after resizing it to 224,224\n",
    " ## image size for input to mobilenet is 224 x 224\n",
    "for filename in glob.glob('car_data/car_data/SUV/*.jpg'): #assuming gif\n",
    "    im= cv2.imread(filename)\n",
    "    image_list_SUV.append(cv2.resize(im,(224,224))) \n",
    "for filename in glob.glob('car_data/car_data/sedan/*.jpg'): #assuming gif\n",
    "    im= cv2.imread(filename)\n",
    "    image_list_sedan.append(cv2.resize(im,(224,224)))\n"
   ]
  },
  {
   "cell_type": "code",
   "execution_count": 3,
   "metadata": {},
   "outputs": [],
   "source": [
    "## Dataset preparation\n",
    "\n",
    "## The images for sedan and suv are combined and sedan is given label as 0 and SUV is given label as 1.\n",
    "\n",
    "x = np.array(image_list_sedan[:500])    \n",
    "x = np.concatenate((x,np.array(image_list_SUV[:500])))\n",
    "y = np.zeros(len(image_list_sedan[:500]))\n",
    "y = np.concatenate((y, np.ones(len(image_list_SUV[:500]))))\n",
    "\n"
   ]
  },
  {
   "cell_type": "code",
   "execution_count": 4,
   "metadata": {},
   "outputs": [],
   "source": [
    "## Split the data into train and test dataset\n",
    "\n",
    "x_scaled = x / 255  ## normalizing the images\n",
    "\n",
    "x_train, x_test, y_train, y_test = train_test_split(x_scaled, y, test_size=0.30, shuffle=True)\n"
   ]
  },
  {
   "cell_type": "code",
   "execution_count": 5,
   "metadata": {
    "colab": {
     "base_uri": "https://localhost:8080/"
    },
    "executionInfo": {
     "elapsed": 50818,
     "status": "ok",
     "timestamp": 1615049477384,
     "user": {
      "displayName": "Rishi Gupta",
      "photoUrl": "https://lh3.googleusercontent.com/a-/AOh14Gi-br0PTBYSMShnebk6wFWo9MyTU5lBkUGZZGPmHHY=s64",
      "userId": "03170080825647371985"
     },
     "user_tz": 0
    },
    "id": "9IKFVE9BWwBD",
    "outputId": "31beb42e-e744-4016-b0a5-7d68eec2c158"
   },
   "outputs": [
    {
     "name": "stdout",
     "output_type": "stream",
     "text": [
      "Model: \"sequential\"\n",
      "_________________________________________________________________\n",
      "Layer (type)                 Output Shape              Param #   \n",
      "=================================================================\n",
      "keras_layer (KerasLayer)     (None, 1280)              2257984   \n",
      "_________________________________________________________________\n",
      "dense (Dense)                (None, 2)                 2562      \n",
      "=================================================================\n",
      "Total params: 2,260,546\n",
      "Trainable params: 2,562\n",
      "Non-trainable params: 2,257,984\n",
      "_________________________________________________________________\n"
     ]
    }
   ],
   "source": [
    "## This model gives all the layer except the last layer\n",
    "feature_ext_model = \"https://tfhub.dev/google/tf2-preview/mobilenet_v2/feature_vector/4\"\n",
    "\n",
    "pretrained_model_freeze = hub.KerasLayer(\n",
    "    feature_ext_model, input_shape=(224, 224, 3), trainable=False)\n",
    "\n",
    "## Combining the base model of MobileNet without the top layer and adding our own layer to classifiy two classes\n",
    "classes_num = 2  ## classifiy two classes- sedan or SUV\n",
    "model_classifier = tf.keras.Sequential([pretrained_model_freeze, tf.keras.layers.Dense(classes_num)])\n",
    "\n",
    "model_classifier.summary()\n",
    "model_classifier.compile(optimizer=\"adam\",\n",
    "    loss=tf.keras.losses.SparseCategoricalCrossentropy(from_logits=True),\n",
    "    metrics=['acc'])\n",
    "\n"
   ]
  },
  {
   "cell_type": "code",
   "execution_count": 6,
   "metadata": {},
   "outputs": [
    {
     "name": "stdout",
     "output_type": "stream",
     "text": [
      "Epoch 1/10\n",
      "22/22 [==============================] - 37s 1s/step - loss: 0.6574 - acc: 0.6022\n",
      "Epoch 2/10\n",
      "22/22 [==============================] - 22s 1s/step - loss: 0.3683 - acc: 0.8531\n",
      "Epoch 3/10\n",
      "22/22 [==============================] - 22s 1s/step - loss: 0.2760 - acc: 0.8910\n",
      "Epoch 4/10\n",
      "22/22 [==============================] - 22s 1s/step - loss: 0.2425 - acc: 0.9092\n",
      "Epoch 5/10\n",
      "22/22 [==============================] - 22s 1s/step - loss: 0.2319 - acc: 0.9115\n",
      "Epoch 6/10\n",
      "22/22 [==============================] - 22s 999ms/step - loss: 0.1945 - acc: 0.9125\n",
      "Epoch 7/10\n",
      "22/22 [==============================] - 22s 1s/step - loss: 0.1779 - acc: 0.9384\n",
      "Epoch 8/10\n",
      "22/22 [==============================] - 23s 1s/step - loss: 0.1681 - acc: 0.9464\n",
      "Epoch 9/10\n",
      "22/22 [==============================] - 23s 1s/step - loss: 0.1621 - acc: 0.9359\n",
      "Epoch 10/10\n",
      "22/22 [==============================] - 21s 927ms/step - loss: 0.1627 - acc: 0.9424\n",
      "10/10 [==============================] - 9s 814ms/step - loss: 0.2061 - acc: 0.9267\n"
     ]
    },
    {
     "data": {
      "text/plain": [
       "[0.20609866082668304, 0.9266666769981384]"
      ]
     },
     "execution_count": 6,
     "metadata": {},
     "output_type": "execute_result"
    }
   ],
   "source": [
    "model_classifier.fit(x_train, y_train, epochs=10)\n",
    "model_classifier.evaluate(x_test, y_test)\n"
   ]
  },
  {
   "cell_type": "code",
   "execution_count": 8,
   "metadata": {},
   "outputs": [
    {
     "name": "stdout",
     "output_type": "stream",
     "text": [
      "10/10 [==============================] - 9s 923ms/step - loss: 0.2061 - acc: 0.9267\n"
     ]
    },
    {
     "data": {
      "text/plain": [
       "[0.20609866082668304, 0.9266666769981384]"
      ]
     },
     "execution_count": 8,
     "metadata": {},
     "output_type": "execute_result"
    }
   ],
   "source": [
    "model_classifier.evaluate(x_test, y_test)"
   ]
  },
  {
   "cell_type": "code",
   "execution_count": 9,
   "metadata": {
    "colab": {
     "base_uri": "https://localhost:8080/"
    },
    "executionInfo": {
     "elapsed": 4739,
     "status": "ok",
     "timestamp": 1615050848103,
     "user": {
      "displayName": "Rishi Gupta",
      "photoUrl": "https://lh3.googleusercontent.com/a-/AOh14Gi-br0PTBYSMShnebk6wFWo9MyTU5lBkUGZZGPmHHY=s64",
      "userId": "03170080825647371985"
     },
     "user_tz": 0
    },
    "id": "A8FLhGA2dpcj",
    "outputId": "7a05eab7-0b3b-4d05-9320-c327d4362fce"
   },
   "outputs": [
    {
     "name": "stdout",
     "output_type": "stream",
     "text": [
      "INFO:tensorflow:Assets written to: class_model_updated\\assets\n"
     ]
    },
    {
     "name": "stderr",
     "output_type": "stream",
     "text": [
      "INFO:tensorflow:Assets written to: class_model_updated\\assets\n"
     ]
    }
   ],
   "source": [
    "model_classifier.save('class_model_updated') ## Saving the classifier model to reuse it"
   ]
  },
  {
   "cell_type": "code",
   "execution_count": null,
   "metadata": {
    "id": "bD-aXjg-fjcH"
   },
   "outputs": [],
   "source": []
  },
  {
   "cell_type": "code",
   "execution_count": null,
   "metadata": {
    "id": "lUbHA9R1f7Y0"
   },
   "outputs": [],
   "source": []
  },
  {
   "cell_type": "code",
   "execution_count": null,
   "metadata": {
    "id": "pJL09mpvgEhb"
   },
   "outputs": [],
   "source": []
  }
 ],
 "metadata": {
  "accelerator": "GPU",
  "colab": {
   "collapsed_sections": [],
   "name": "Car_Classification.ipynb",
   "provenance": []
  },
  "kernelspec": {
   "display_name": "Python 3",
   "language": "python",
   "name": "python3"
  },
  "language_info": {
   "codemirror_mode": {
    "name": "ipython",
    "version": 3
   },
   "file_extension": ".py",
   "mimetype": "text/x-python",
   "name": "python",
   "nbconvert_exporter": "python",
   "pygments_lexer": "ipython3",
   "version": "3.8.3"
  }
 },
 "nbformat": 4,
 "nbformat_minor": 1
}
